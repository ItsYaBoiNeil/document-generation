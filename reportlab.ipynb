{
 "cells": [
  {
   "cell_type": "code",
   "execution_count": 2,
   "id": "b2365efc",
   "metadata": {},
   "outputs": [],
   "source": [
    "# importing modules \n",
    "from reportlab.pdfgen import canvas \n",
    "from reportlab.pdfbase.ttfonts import TTFont \n",
    "from reportlab.pdfbase import pdfmetrics \n",
    "from reportlab.lib import colors"
   ]
  },
  {
   "cell_type": "code",
   "execution_count": 1,
   "id": "ecd2bebf",
   "metadata": {},
   "outputs": [],
   "source": [
    "# initializing variables with values \n",
    "fileName = 'sample.pdf'\n",
    "documentTitle = 'sample'\n",
    "title = 'Technology'\n",
    "subTitle = 'The largest thing now!!'\n",
    "textLines = [ \n",
    "    'Technology makes us aware of', \n",
    "    'the world around us.', \n",
    "]"
   ]
  },
  {
   "cell_type": "code",
   "execution_count": 3,
   "id": "e802f061",
   "metadata": {},
   "outputs": [],
   "source": [
    "# creating a pdf object \n",
    "pdf = canvas.Canvas(fileName) \n",
    "\n",
    "# setting the title of the document \n",
    "pdf.setTitle(documentTitle)"
   ]
  },
  {
   "cell_type": "code",
   "execution_count": 5,
   "id": "2245effa",
   "metadata": {},
   "outputs": [],
   "source": [
    "# registering a external font in python \n",
    "pdfmetrics.registerFont( \n",
    "    TTFont('abc', 'times-new-roman.ttf') \n",
    ")"
   ]
  },
  {
   "cell_type": "code",
   "execution_count": 6,
   "id": "601c8ca3",
   "metadata": {},
   "outputs": [],
   "source": [
    "# creating the title by setting it's font \n",
    "# and putting it on the canvas \n",
    "pdf.setFont('abc', 36) \n",
    "pdf.drawCentredString(300, 770, title)"
   ]
  },
  {
   "cell_type": "code",
   "execution_count": 7,
   "id": "faa5f05c",
   "metadata": {},
   "outputs": [],
   "source": [
    "# creating the subtitle by setting it's font, \n",
    "# colour and putting it on the canvas \n",
    "pdf.setFillColorRGB(0, 0, 0) \n",
    "pdf.setFont(\"Courier-Bold\", 24) \n",
    "pdf.drawCentredString(290, 720, subTitle) "
   ]
  },
  {
   "cell_type": "code",
   "execution_count": 8,
   "id": "c8070795",
   "metadata": {},
   "outputs": [],
   "source": [
    "# drawing a line \n",
    "pdf.line(30, 710, 550, 710) \n",
    "\n",
    "# creating a multiline text using \n",
    "# textline and for loop \n",
    "text = pdf.beginText(40, 680) \n",
    "text.setFont(\"Courier\", 18) \n",
    "text.setFillColor(colors.black) \n",
    "\n",
    "for line in textLines: \n",
    "    text.textLine(line) \n",
    "    \n",
    "pdf.drawText(text) "
   ]
  },
  {
   "cell_type": "code",
   "execution_count": 9,
   "id": "370840e9",
   "metadata": {},
   "outputs": [],
   "source": [
    "pdf.save()"
   ]
  },
  {
   "cell_type": "code",
   "execution_count": null,
   "id": "1c4f09f7",
   "metadata": {},
   "outputs": [],
   "source": []
  }
 ],
 "metadata": {
  "kernelspec": {
   "display_name": "Python 3 (ipykernel)",
   "language": "python",
   "name": "python3"
  },
  "language_info": {
   "codemirror_mode": {
    "name": "ipython",
    "version": 3
   },
   "file_extension": ".py",
   "mimetype": "text/x-python",
   "name": "python",
   "nbconvert_exporter": "python",
   "pygments_lexer": "ipython3",
   "version": "3.9.16"
  }
 },
 "nbformat": 4,
 "nbformat_minor": 5
}
